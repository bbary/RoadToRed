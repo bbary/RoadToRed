{
  "nbformat": 4,
  "nbformat_minor": 0,
  "metadata": {
    "colab": {
      "provenance": [],
      "authorship_tag": "ABX9TyOnpc85IQo8jwOuGylaZ2sT",
      "include_colab_link": true
    },
    "kernelspec": {
      "name": "python3",
      "display_name": "Python 3"
    },
    "language_info": {
      "name": "python"
    }
  },
  "cells": [
    {
      "cell_type": "markdown",
      "metadata": {
        "id": "view-in-github",
        "colab_type": "text"
      },
      "source": [
        "<a href=\"https://colab.research.google.com/github/bbary/road_to_pentester/blob/main/ASM.ipynb\" target=\"_parent\"><img src=\"https://colab.research.google.com/assets/colab-badge.svg\" alt=\"Open In Colab\"/></a>"
      ]
    },
    {
      "cell_type": "code",
      "source": [
        "!echo \"This is a single shell command\"\n",
        "\n",
        "print ('Mixed with some Python')"
      ],
      "metadata": {
        "colab": {
          "base_uri": "https://localhost:8080/"
        },
        "id": "rvtbDsYzaS_8",
        "outputId": "7dc40fc0-ba1c-4aee-8e65-86e9a8f986c2"
      },
      "execution_count": 6,
      "outputs": [
        {
          "output_type": "stream",
          "name": "stdout",
          "text": [
            "This is a single shell command\n",
            "Mixed with some Python\n"
          ]
        }
      ]
    },
    {
      "cell_type": "code",
      "source": [
        "%%shell\n",
        "\n",
        "echo \"This is an entire cell interpreted as a shell script\"\n",
        "echo \"You don't need to prepend each line with the '!' character\""
      ],
      "metadata": {
        "id": "NzsvDLkwabq8"
      },
      "execution_count": null,
      "outputs": []
    },
    {
      "cell_type": "markdown",
      "source": [],
      "metadata": {
        "id": "c7QVeIfdaUqb"
      }
    },
    {
      "cell_type": "code",
      "source": [
        "!gcc -Wall -m32 -o  test test.c # -m32 pour compiler un binaire au format 32-bit"
      ],
      "metadata": {
        "colab": {
          "base_uri": "https://localhost:8080/"
        },
        "id": "5-WEM3RZR23i",
        "outputId": "4c3b38e0-82ef-4308-c7a9-2fae0fdbf437"
      },
      "execution_count": 9,
      "outputs": [
        {
          "output_type": "stream",
          "name": "stdout",
          "text": [
            "In file included from \u001b[01m\u001b[Ktest.c:1\u001b[m\u001b[K:\n",
            "\u001b[01m\u001b[K/usr/include/stdio.h:27:10:\u001b[m\u001b[K \u001b[01;31m\u001b[Kfatal error: \u001b[m\u001b[Kbits/libc-header-start.h: No such file or directory\n",
            "   27 | #include \u001b[01;31m\u001b[K<bits/libc-header-start.h>\u001b[m\u001b[K\n",
            "      |          \u001b[01;31m\u001b[K^~~~~~~~~~~~~~~~~~~~~~~~~~\u001b[m\u001b[K\n",
            "compilation terminated.\n"
          ]
        }
      ]
    },
    {
      "cell_type": "code",
      "source": [
        "!file test   # récupérer des informations sur la structure interne de ce fichier"
      ],
      "metadata": {
        "colab": {
          "base_uri": "https://localhost:8080/"
        },
        "id": "0BquFxuIWn4y",
        "outputId": "fe20173f-73c9-4da1-b7a7-2237bc4d9b7f"
      },
      "execution_count": 5,
      "outputs": [
        {
          "output_type": "stream",
          "name": "stdout",
          "text": [
            "test: cannot open `test' (No such file or directory)\n"
          ]
        },
        {
          "output_type": "execute_result",
          "data": {
            "text/plain": []
          },
          "metadata": {},
          "execution_count": 5
        }
      ]
    },
    {
      "cell_type": "markdown",
      "source": [],
      "metadata": {
        "id": "SA9n0ZWvcpx-"
      }
    },
    {
      "cell_type": "markdown",
      "source": [
        "```\n",
        "test: ELF 32-bit LSB executable, Intel 80386\n",
        "```\n",
        "\n",
        "\n",
        "\n",
        "\n",
        "\n",
        "\n"
      ],
      "metadata": {
        "id": "IWAYD2qQXPJC"
      }
    },
    {
      "cell_type": "markdown",
      "source": [
        "LSB : Linux Standard Base\n",
        "\n",
        "ELF : Executable and Linkable Format est, comme son nom l’indique, un format de structuration de binaires exécutables. Ce format a notamment en charge d’indiquer la quantité de code et de données binaires à charger en mémoire, à quelle adresse, quelles sont les bibliothèques de code à charger à l’exécution du programme, etc. Sous Windows, on notera l’existence du format PE (Portable Executable) qui structure les binaires exécutables (.exe), les bibliothèques de liens dynamiques (.dll). Sous Mac, nous avons même le format mach-O"
      ],
      "metadata": {
        "id": "3d-KQOn9XCoY"
      }
    }
  ]
}