{
  "nbformat": 4,
  "nbformat_minor": 0,
  "metadata": {
    "colab": {
      "provenance": [],
      "authorship_tag": "ABX9TyMqFDjigRmSqtZT6LXxhveR",
      "include_colab_link": true
    },
    "kernelspec": {
      "name": "python3",
      "display_name": "Python 3"
    },
    "language_info": {
      "name": "python"
    }
  },
  "cells": [
    {
      "cell_type": "markdown",
      "metadata": {
        "id": "view-in-github",
        "colab_type": "text"
      },
      "source": [
        "<a href=\"https://colab.research.google.com/github/bbary/road_to_pentester/blob/main/ASM.ipynb\" target=\"_parent\"><img src=\"https://colab.research.google.com/assets/colab-badge.svg\" alt=\"Open In Colab\"/></a>"
      ]
    },
    {
      "cell_type": "markdown",
      "source": [
        "# [Introduction à la rétroingénierie de binaires ](https://zestedesavoir.com/articles/97/introduction-a-la-retroingenierie-de-binaires/)"
      ],
      "metadata": {
        "id": "0Mw6qRMRgCoU"
      }
    },
    {
      "cell_type": "code",
      "source": [
        "!echo \"This is a single shell command\"\n",
        "\n",
        "print ('Mixed with some Python')"
      ],
      "metadata": {
        "id": "rvtbDsYzaS_8"
      },
      "execution_count": null,
      "outputs": []
    },
    {
      "cell_type": "code",
      "source": [
        "%%shell\n",
        "\n",
        "echo \"This is an entire cell interpreted as a shell script\"\n",
        "echo \"You don't need to prepend each line with the '!' character\""
      ],
      "metadata": {
        "id": "NzsvDLkwabq8"
      },
      "execution_count": null,
      "outputs": []
    },
    {
      "cell_type": "code",
      "source": [
        "!gcc -Wall -m32 -o  test test.c # -m32 pour compiler un binaire au format 32-bit"
      ],
      "metadata": {
        "collapsed": true,
        "id": "5-WEM3RZR23i"
      },
      "execution_count": null,
      "outputs": []
    },
    {
      "cell_type": "code",
      "source": [
        "!file test   # récupérer des informations sur la structure interne de ce fichier"
      ],
      "metadata": {
        "id": "0BquFxuIWn4y"
      },
      "execution_count": null,
      "outputs": []
    },
    {
      "cell_type": "markdown",
      "source": [
        "```\n",
        "test: ELF 32-bit LSB executable, Intel 80386\n",
        "```\n",
        "\n",
        "\n",
        "\n",
        "\n",
        "\n",
        "\n"
      ],
      "metadata": {
        "id": "IWAYD2qQXPJC"
      }
    },
    {
      "cell_type": "markdown",
      "source": [
        "LSB : Linux Standard Base\n",
        "\n",
        "ELF : Executable and Linkable Format est, comme son nom l’indique, un format de structuration de binaires exécutables. Ce format a notamment en charge d’indiquer la quantité de code et de données binaires à charger en mémoire, à quelle adresse, quelles sont les bibliothèques de code à charger à l’exécution du programme, etc. Sous Windows, on notera l’existence du format PE (Portable Executable) qui structure les binaires exécutables (.exe), les bibliothèques de liens dynamiques (.dll). Sous Mac, nous avons même le format mach-O"
      ],
      "metadata": {
        "id": "3d-KQOn9XCoY"
      }
    }
  ]
}