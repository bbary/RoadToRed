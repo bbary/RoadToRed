{
  "nbformat": 4,
  "nbformat_minor": 0,
  "metadata": {
    "colab": {
      "provenance": [],
      "toc_visible": true,
      "authorship_tag": "ABX9TyNRn+feIs+jfNeHw/naEKJm",
      "include_colab_link": true
    },
    "kernelspec": {
      "name": "python3",
      "display_name": "Python 3"
    },
    "language_info": {
      "name": "python"
    }
  },
  "cells": [
    {
      "cell_type": "markdown",
      "metadata": {
        "id": "view-in-github",
        "colab_type": "text"
      },
      "source": [
        "<a href=\"https://colab.research.google.com/github/bbary/RoadToRed/blob/main/ASM.ipynb\" target=\"_parent\"><img src=\"https://colab.research.google.com/assets/colab-badge.svg\" alt=\"Open In Colab\"/></a>"
      ]
    },
    {
      "cell_type": "markdown",
      "source": [
        "# Introduction à la rétroingénierie de binaires [link](https://zestedesavoir.com/articles/97/introduction-a-la-retroingenierie-de-binaires/)"
      ],
      "metadata": {
        "id": "0Mw6qRMRgCoU"
      }
    },
    {
      "cell_type": "code",
      "source": [
        "!echo \"This is a single shell command\"\n",
        "\n",
        "print ('Mixed with some Python')"
      ],
      "metadata": {
        "id": "rvtbDsYzaS_8"
      },
      "execution_count": null,
      "outputs": []
    },
    {
      "cell_type": "code",
      "source": [
        "%%shell\n",
        "\n",
        "echo \"This is an entire cell interpreted as a shell script\"\n",
        "echo \"You don't need to prepend each line with the '!' character\""
      ],
      "metadata": {
        "id": "NzsvDLkwabq8"
      },
      "execution_count": null,
      "outputs": []
    },
    {
      "cell_type": "code",
      "source": [
        "!gcc -Wall -m32 -o  test test.c"
      ],
      "metadata": {
        "collapsed": true,
        "id": "5-WEM3RZR23i"
      },
      "execution_count": null,
      "outputs": []
    },
    {
      "cell_type": "markdown",
      "source": [
        "-m32 pour compiler un binaire au format 32-bit"
      ],
      "metadata": {
        "id": "m4PvEaVlirF4"
      }
    },
    {
      "cell_type": "code",
      "source": [
        "!file test"
      ],
      "metadata": {
        "id": "0BquFxuIWn4y"
      },
      "execution_count": null,
      "outputs": []
    },
    {
      "cell_type": "markdown",
      "source": [
        "récupérer des informations sur la structure interne de ce fichier"
      ],
      "metadata": {
        "id": "TKc8z2ibiuIZ"
      }
    },
    {
      "cell_type": "markdown",
      "source": [
        "```\n",
        "test: ELF 32-bit LSB executable, Intel 80386\n",
        "```\n",
        "\n",
        "\n",
        "\n",
        "\n",
        "\n",
        "\n"
      ],
      "metadata": {
        "id": "IWAYD2qQXPJC"
      }
    },
    {
      "cell_type": "markdown",
      "source": [
        "LSB : Linux Standard Base\n",
        "\n",
        "ELF : Executable and Linkable Format est, comme son nom l’indique, un format de structuration de binaires exécutables. Ce format a notamment en charge d’indiquer la quantité de code et de données binaires à charger en mémoire, à quelle adresse, quelles sont les bibliothèques de code à charger à l’exécution du programme, etc. Sous Windows, on notera l’existence du format PE (Portable Executable) qui structure les binaires exécutables (.exe), les bibliothèques de liens dynamiques (.dll). Sous Mac, nous avons même le format mach-O"
      ],
      "metadata": {
        "id": "3d-KQOn9XCoY"
      }
    },
    {
      "cell_type": "code",
      "source": [
        "%%shell\n",
        "hd test | head # dumpons le début de notre fichier binaire à l’aide de l’outil hd (un alias de la commande hexdump -C)\n",
        "readelf -S test # affiche les section. ELF est constitué de sections. Une section est désignée par un libellé"
      ],
      "metadata": {
        "id": "hsC0OYP6iCK_"
      },
      "execution_count": null,
      "outputs": []
    },
    {
      "cell_type": "code",
      "source": [
        "!gcc -m32 -S test.c  # -S pour générer un fichier  test.s en langage d’assemblage, qui est le résultat de la compilation de votre fichier source."
      ],
      "metadata": {
        "id": "4dYBmqAjiU6N"
      },
      "execution_count": null,
      "outputs": []
    },
    {
      "cell_type": "code",
      "source": [
        "!objdump -d test --section=.text"
      ],
      "metadata": {
        "id": "Z5VcZsziilph"
      },
      "execution_count": null,
      "outputs": []
    },
    {
      "cell_type": "markdown",
      "source": [
        "Si on a pas le fichier source on utilise l'outil objdump. Désassemblons la section .text"
      ],
      "metadata": {
        "id": "ir3B0Y_Yi9wB"
      }
    },
    {
      "cell_type": "markdown",
      "source": [
        "# L’architecture x86\n",
        "\n",
        "On désigne en partie, par l’architecture x86, l’ensemble des registres (petites mémoires de quelques octets directement présente à l’intérieur du processeur) et le jeu d’instructions (opcode codé sur un, deux ou trois octets ) exécutables par les processeurs de cette gamme\n",
        "\n",
        "L’architecture x86 recense huit registres à usages généraux : eax, ebx, ecx, edx, edi, esi, ebp, esp\n",
        "\n",
        "* eax : registre d’accumulation étendu : il est utilisé\n",
        "pour stocker le résultat d’opérations arithmétiques ou les valeurs de retour des routines appelées.\n",
        "\n",
        "* ebx : registre de base étendu : il est utilisé dans le cadre d’accès à la mémoire via l’adressage d’une donnée. Le registre de base contiendra une adresse mémoire de base, tandis que nous fournirons à côté un index, un offset, etc.\n",
        "\n",
        "* ecx : registre de comptage étendu : il est utilisé par des opérations qui gèrent l’exécution de boucles.\n",
        "\n",
        "* edx : registre de données étendu : il est utilisé pour stocker des données en tout genre.\n",
        "\n",
        "* esi / edi: Les registres esi et edi sont souvent utilisés conjointement pour manipuler des données d’une source (esi) à une destination (edi), par exemple les copies.\n",
        "\n",
        "* ebp / esp : extended base pointer / extended stack pointer. servent à délimiter ce qu’on appelle le cadre de pile courant, communément appelé stack frame\n",
        "\n",
        "* eip : extended instruction pointer, contient l’adresse de la prochaine instruction à exécuter\n",
        "\n",
        "les registres A,B,C,D ont pour taille 32 bits, soit 4 octets, et peuvent-être déclinés en sous-registres de 16 bits AX, BX, CX et DX qui correspondront, respectivement, à la partie inférieure des registres EAX, EBX, ECX et EDX. Enfin, ces mêmes registres de AX à DX peuvent être déclinés en deux parties:\n",
        "\n",
        "* la partie supérieure : AH, BH, CH et DH ;\n",
        "* la partie inférieure : AL, BL, CL et DL.\n",
        "\n",
        "![pile.png](data:image/png;base64,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)\n",
        "\n",
        "# La pile (stack) [link](https://colab.research.google.com/drive/1AXrS5kfr6yrszAf9FY4i6F2gWUFWlpXD#scrollTo=r7vYdivZjES6&line=22&uniqifier=1)\n",
        "\n",
        "une structure de données fondée sur le principe « dernier arrivé, premier sorti » (en anglais LIFO pour last in, first out).\n",
        "\n",
        "La plupart des microprocesseurs gèrent nativement une pile pour les appels de routine2. Elle correspond alors à une zone de la mémoire, et le processeur retient l'adresse du dernier élément.\n",
        "\n",
        "Dans l'architecture x86 32 bits, le registre ESP sert à indiquer l'adresse du sommet d'une pile dans la mémoire vive3. Les opcodes push et pop permettent respectivement d'empiler et de dépiler des données\n",
        "\n",
        "Dans la plupart des langages de programmation compilés, la pile d'exécution est l'endroit où sont empilés tout ou partie des paramètres d'appel des routines. Par ailleurs, on y crée un espace pour des variables locales. La pile est ainsi formée de cadres de piles (en anglais stack frames) comprenant pour chaque routine, en cours d'appel imbriqué, ses paramètres, ses variables locales et son point de retour.\n",
        "\n",
        "Au fur et à mesure que l’on appelle des fonctions et alloue de la mémoire statiquement (à ne surtout pas confondre avec le mot-clé static en C, car ici je parle des variables locales, entendons-nous bien) au sein d’une fonction, la pile est amenée à grandir. Dans l’architecture x86, elle grandit vers les adresses basses, ce qui veut dire que plus nous allouons de la mémoire, plus la valeur du registre esp décroit. Ainsi, esp aura une valeur toujours inférieure au registre ebp (normalement…).\n"
      ],
      "metadata": {
        "id": "r7vYdivZjES6"
      }
    }
  ]
}